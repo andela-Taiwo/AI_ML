{
 "cells": [
  {
   "cell_type": "code",
   "execution_count": 3,
   "id": "a5e3108d-36b0-4f6b-85eb-0c315777c310",
   "metadata": {},
   "outputs": [
    {
     "name": "stdout",
     "output_type": "stream",
     "text": [
      "[0, 1, 1, 2, 3, 5, 8, 13, 21, 34]\n"
     ]
    }
   ],
   "source": [
    "def fibonacci_series(n):\n",
    "    fib_series = []\n",
    "    a, b = 0, 1\n",
    "    for _ in range(n):\n",
    "        fib_series.append(a)\n",
    "        a, b = b, a + b\n",
    "    return fib_series\n",
    "\n",
    "n = 10\n",
    "result = fibonacci_series(n)\n",
    "print(result)"
   ]
  },
  {
   "cell_type": "code",
   "execution_count": 2,
   "id": "949a4c69-0ccd-49fb-a5b2-551fa111f264",
   "metadata": {},
   "outputs": [
    {
     "name": "stdout",
     "output_type": "stream",
     "text": [
      "[0, 1, 1, 2, 3, 5, 8, 13, 21, 34]\n"
     ]
    }
   ],
   "source": [
    "def fibonacci_recursive(n):\n",
    "    if n <= 1:\n",
    "        return n\n",
    "    else:\n",
    "        return fibonacci_recursive(n-1) + fibonacci_recursive(n-2)\n",
    "\n",
    "# Specify the number of terms in the Fibonacci series\n",
    "n = 10\n",
    "fib_series = [fibonacci_recursive(i) for i in range(n)]\n",
    "print(fib_series)"
   ]
  },
  {
   "cell_type": "code",
   "execution_count": 8,
   "id": "b9067935-f206-4bc1-bca3-f6643ff5b29e",
   "metadata": {},
   "outputs": [
    {
     "name": "stdout",
     "output_type": "stream",
     "text": [
      "[0, 1, 1, 2, 3, 5, 8, 13, 21, 34]\n",
      "[0, 1, 1]\n"
     ]
    }
   ],
   "source": [
    "def fibonacci_recursive(n, a=0, b=1, count=0):\n",
    "    if count == n:\n",
    "        return []\n",
    "    return [a] + fibonacci_recursive(n, b, a + b, count + 1)\n",
    "\n",
    "n = 10\n",
    "result = fibonacci_recursive(n)\n",
    "print(result)\n",
    "print(fibonacci_recursive(3))"
   ]
  },
  {
   "cell_type": "code",
   "execution_count": 9,
   "id": "ddcd2f42-2d74-4c8b-b2e7-75746ea2f471",
   "metadata": {},
   "outputs": [
    {
     "name": "stdout",
     "output_type": "stream",
     "text": [
      "[0, 1, 1, 2, 3, 5, 8, 13, 21, 34]\n"
     ]
    }
   ],
   "source": [
    "def fibonacci_series(n):\n",
    "    # Initialize Fibonacci series list\n",
    "    fib_series = []\n",
    "    \n",
    "    # Initialize first two Fibonacci numbers\n",
    "    a, b = 0, 1\n",
    "    \n",
    "    # Generate Fibonacci series up to n\n",
    "    for _ in range(n):\n",
    "        fib_series.append(a)\n",
    "        a, b = b, a + b\n",
    "        \n",
    "    return fib_series\n",
    "\n",
    "n = 10\n",
    "result = fibonacci_series(n)\n",
    "print(result)"
   ]
  },
  {
   "cell_type": "code",
   "execution_count": 10,
   "id": "afa557d0-b27d-4aef-a6c4-95034eea11ba",
   "metadata": {},
   "outputs": [
    {
     "name": "stdout",
     "output_type": "stream",
     "text": [
      "Slope: -4.097095225471854e+48, Intercept: -1.1348296803224902e+48\n"
     ]
    }
   ],
   "source": [
    "def linear_regression(x, y, learning_rate, num_iterations):\n",
    "\n",
    "  m = 0  # Slope\n",
    "  b = 0  # Intercept\n",
    "\n",
    "  for _ in range(num_iterations):\n",
    "    # Calculate predictions\n",
    "    predictions = [m * i + b for i in x]\n",
    "\n",
    "    # Calculate errors\n",
    "    errors = [(y[i] - predictions[i]) for i in range(len(y))]\n",
    "\n",
    "    # Calculate average error for slope update\n",
    "    m_gradient = sum([x[i] * errors[i] for i in range(len(x))]) / len(x)\n",
    "\n",
    "    # Calculate average error for intercept update\n",
    "    b_gradient = sum(errors) / len(errors)\n",
    "\n",
    "    # Update slope and intercept\n",
    "    m -= learning_rate * m_gradient\n",
    "    b -= learning_rate * b_gradient\n",
    "\n",
    "  return m, b\n",
    "\n",
    "# Example usage\n",
    "x = [1, 2, 3, 4, 5]\n",
    "y = [2, 4, 5, 4, 5]\n",
    "learning_rate = 0.01\n",
    "num_iterations = 1000\n",
    "\n",
    "slope, intercept = linear_regression(x, y, learning_rate, num_iterations)\n",
    "\n",
    "print(f\"Slope: {slope}, Intercept: {intercept}\")\n"
   ]
  },
  {
   "cell_type": "code",
   "execution_count": null,
   "id": "f38595b4-1eb9-400b-8e0e-1f3f1f84023c",
   "metadata": {},
   "outputs": [],
   "source": []
  }
 ],
 "metadata": {
  "kernelspec": {
   "display_name": "Python 3 (ipykernel)",
   "language": "python",
   "name": "python3"
  },
  "language_info": {
   "codemirror_mode": {
    "name": "ipython",
    "version": 3
   },
   "file_extension": ".py",
   "mimetype": "text/x-python",
   "name": "python",
   "nbconvert_exporter": "python",
   "pygments_lexer": "ipython3",
   "version": "3.9.6"
  }
 },
 "nbformat": 4,
 "nbformat_minor": 5
}
