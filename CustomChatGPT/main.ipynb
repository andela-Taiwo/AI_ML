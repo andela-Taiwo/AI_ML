{
 "cells": [
  {
   "cell_type": "code",
   "execution_count": 1,
   "metadata": {},
   "outputs": [
    {
     "name": "stdout",
     "output_type": "stream",
     "text": [
      "Note: you may need to restart the kernel to use updated packages.\n"
     ]
    }
   ],
   "source": [
    "pip install -r requirements.txt -q"
   ]
  },
  {
   "cell_type": "code",
   "execution_count": 4,
   "metadata": {},
   "outputs": [
    {
     "data": {
      "text/plain": [
       "True"
      ]
     },
     "execution_count": 4,
     "metadata": {},
     "output_type": "execute_result"
    }
   ],
   "source": [
    "import os\n",
    "from dotenv import load_dotenv, find_dotenv\n",
    "load_dotenv(find_dotenv(), override=True)\n"
   ]
  },
  {
   "cell_type": "code",
   "execution_count": 11,
   "metadata": {},
   "outputs": [
    {
     "name": "stdout",
     "output_type": "stream",
     "text": [
      "\n",
      "\n",
      "\u001b[1m> Entering new LLMChain chain...\u001b[0m\n",
      "Prompt after formatting:\n",
      "\u001b[32;1m\u001b[1;3mSystem: You are a chatbot having a conservation with a human \n",
      "Human: Light speed in vaccum\n",
      "AI: The speed of light in a vacuum is about 299,792 kilometers per second (or about 186,282 miles per second). This is the maximum speed at which energy, information, or matter can travel in the universe according to the theory of relativity.\n",
      "Human: Light speed in water\n",
      "AI: The speed of light in water is slower than in a vacuum. In water, light travels at about 225,000 kilometers per second, which is about 25% slower than its speed in a vacuum. This difference in speed is due to the fact that light interacts with the molecules in water, causing it to slow down as it travels through the medium.\n",
      "Human: how long does it take travel from earth to sun\u001b[0m\n",
      "\n",
      "\u001b[1m> Finished chain.\u001b[0m\n",
      "The time it takes for light to travel from the Sun to Earth is approximately 8 minutes and 20 seconds. This means that the light we see from the Sun actually left the Sun over 8 minutes ago before reaching our eyes.\n",
      "--------------------------------------------------\n",
      "Good Bye\n"
     ]
    }
   ],
   "source": [
    "from langchain.chat_models import ChatOpenAI\n",
    "from langchain.chains import LLMChain\n",
    "from langchain.schema import SystemMessage\n",
    "from langchain.prompts import ChatPromptTemplate, HumanMessagePromptTemplate, MessagesPlaceholder\n",
    "from langchain.memory import ConversationBufferMemory, FileChatMessageHistory\n",
    "\n",
    "llm = ChatOpenAI(model_name='gpt-3.5-turbo', temperature=1)\n",
    "history = FileChatMessageHistory('chat-history.json')\n",
    "memory = ConversationBufferMemory(\n",
    "    memory_key='chat-history',\n",
    "    chat_memory=history,\n",
    "    return_messages=True\n",
    ")\n",
    "prompt = ChatPromptTemplate(\n",
    "    input_variables=['content'],\n",
    "    messages=[\n",
    "        SystemMessage(content='You are a chatbot having a conservation with a human '),\n",
    "        MessagesPlaceholder(variable_name='chat-history'), # memory storage,\n",
    "        HumanMessagePromptTemplate.from_template('{content}')\n",
    "    ]\n",
    ")\n",
    "\n",
    "chain = LLMChain(\n",
    "    llm=llm,\n",
    "    prompt=prompt,\n",
    "    memory=memory,\n",
    "    verbose=True\n",
    ")\n",
    "\n",
    "while True:\n",
    "    content = input('Your prompt: ')\n",
    "    if content in ['exit', 'bye', 'quit']:\n",
    "        print('Good Bye')\n",
    "        break\n",
    "    response = chain.run({'content': content})\n",
    "    print(response)\n",
    "    print('-'*50)"
   ]
  }
 ],
 "metadata": {
  "kernelspec": {
   "display_name": "Python 3 (ipykernel)",
   "language": "python",
   "name": "python3"
  },
  "language_info": {
   "codemirror_mode": {
    "name": "ipython",
    "version": 3
   },
   "file_extension": ".py",
   "mimetype": "text/x-python",
   "name": "python",
   "nbconvert_exporter": "python",
   "pygments_lexer": "ipython3",
   "version": "3.9.6"
  }
 },
 "nbformat": 4,
 "nbformat_minor": 4
}
